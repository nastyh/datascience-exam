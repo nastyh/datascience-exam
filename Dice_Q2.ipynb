{
 "cells": [
  {
   "cell_type": "code",
   "execution_count": 76,
   "metadata": {},
   "outputs": [
    {
     "name": "stdout",
     "output_type": "stream",
     "text": [
      "[['11', '12', '13', '14', '15'], ['16', '21', '22', '23', '24'], ['25', '26', '31', '32', '33'], ['34', '35', '36', '41', '42'], ['43', '44', '45', '46', '51'], ['52', '53', '54', '55', '56'], ['61', '62', '63', '64', '65']]\n",
      "7\n"
     ]
    }
   ],
   "source": [
    "\"\"\"The idea is to roll the dice twice, list all cases, remove 6-6 and reroll again in this case, divide the 35 remaining items \n",
    "into seven equal groups and randomly pick an item from the list that consists of those groups. \n",
    "Each item can be chosen with a probability 1/7.\"\"\"\n",
    "list1 = ['1','2','3','4','5','6'] # first dice\n",
    "list2 = ['1','2','3','4','5','6'] # second dice\n",
    "combined1 = []\n",
    "for i in list1:\n",
    "    for j in list2:\n",
    "        combined1.append(i+j) #combining all possible cases\n",
    "combined2 = combined1[:-1] # getting rid of 6-6\n",
    "\n",
    "groups = [combined2[i:i+5] for i in range(0, len(combined2), 5)] #making seven equal groups of elements\n",
    "\n",
    "##print(groups) # this is how they look\n",
    "##print(len(groups)) # indeed, there are seven elements"
   ]
  },
  {
   "cell_type": "code",
   "execution_count": 79,
   "metadata": {},
   "outputs": [],
   "source": [
    "import random\n",
    "rand_ind = groups.index(random.choice(groups)) #randomly chooses an item in the list and returns its index\n",
    "##print(rand_ind) #just checking that it works"
   ]
  },
  {
   "cell_type": "code",
   "execution_count": 80,
   "metadata": {},
   "outputs": [
    {
     "name": "stdout",
     "output_type": "stream",
     "text": [
      "Random number 5\n"
     ]
    }
   ],
   "source": [
    "dict_17 = {0:'Random number 1',1:'Random number 2',2:'Random number 3',\n",
    "           3:'Random number 4',4:'Random number 5',5:'Random number 6',6:'Random number 7'} # dictionary instead of the else statement to save on typing\n",
    "print(dict_17[rand_ind])"
   ]
  },
  {
   "cell_type": "code",
   "execution_count": 86,
   "metadata": {},
   "outputs": [],
   "source": [
    "\"\"\"Now let's roll the real dices\"\"\"\n",
    "rand_a = random.randint(1,6)\n",
    "rand_b = random.randint(1,6)\n",
    "if rand_a == rand_b == 6:\n",
    "    rand_a = rnd.randint(1,6)\n",
    "    rand_b = rnd.randint(1,6)\n",
    "##print(rand_a, rand_b) ## what we're getting\n",
    "rand_c = str(rand_a) + str(rand_b)\n",
    "##print(rand_c) "
   ]
  },
  {
   "cell_type": "code",
   "execution_count": 87,
   "metadata": {},
   "outputs": [
    {
     "data": {
      "text/plain": [
       "7"
      ]
     },
     "execution_count": 87,
     "metadata": {},
     "output_type": "execute_result"
    }
   ],
   "source": [
    "\"\"\"returning the index that will be a number from one to seven of the element's list\n",
    "that contains our rand_c\"\"\"\n",
    "next(i for i, v in enumerate(groups, start =1) if rand_c in v)"
   ]
  }
 ],
 "metadata": {
  "kernelspec": {
   "display_name": "Python 3",
   "language": "python",
   "name": "python3"
  },
  "language_info": {
   "codemirror_mode": {
    "name": "ipython",
    "version": 3
   },
   "file_extension": ".py",
   "mimetype": "text/x-python",
   "name": "python",
   "nbconvert_exporter": "python",
   "pygments_lexer": "ipython3",
   "version": "3.7.0"
  }
 },
 "nbformat": 4,
 "nbformat_minor": 2
}
