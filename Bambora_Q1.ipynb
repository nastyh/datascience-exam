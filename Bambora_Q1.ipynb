{
 "cells": [
  {
   "cell_type": "markdown",
   "metadata": {},
   "source": [
    "### Is a linked list a palindrome "
   ]
  },
  {
   "cell_type": "code",
   "execution_count": 19,
   "metadata": {
    "collapsed": true
   },
   "outputs": [],
   "source": [
    "class solution:\n",
    "    def is_palindrome(self, head):\n",
    "        node = head\n",
    "        length = 0\n",
    "        comp = []\n",
    "        while node:\n",
    "            comp.append(node.val)\n",
    "            node = node.next\n",
    "            length +=1\n",
    "        for i in range(length//2):\n",
    "            if not comp[i] == comp[len(comp)-i-1]:\n",
    "                return False\n",
    "        return True"
   ]
  },
  {
   "cell_type": "code",
   "execution_count": null,
   "metadata": {
    "collapsed": true
   },
   "outputs": [],
   "source": [
    "def list_palin(self):\n",
    "    \"\"\" Check if linked list is palindrome and return True/False.\"\"\"\n",
    "    node = self.head\n",
    "    fast = node\n",
    "    prev = None\n",
    "\n",
    "    # prev approaches to middle of list till fast reaches end or None \n",
    "    while fast and fast.next:\n",
    "        fast = fast.next.next\n",
    "        temp = node.next   #reverse elemets of first half of list\n",
    "        node.next = prev\n",
    "        prev = node\n",
    "        node = temp\n",
    "\n",
    "    if fast:  # in case of odd num elements\n",
    "        tail = node.next\n",
    "    else:    # in case of even num elements\n",
    "        tail = node\n",
    "\n",
    "    while prev:\n",
    "        # compare reverse element and next half elements          \n",
    "        if prev.val == tail.val:\n",
    "            tail = tail.next\n",
    "            prev = prev.next\n",
    "        else:\n",
    "            return False\n",
    "    return True"
   ]
  },
  {
   "cell_type": "code",
   "execution_count": 16,
   "metadata": {
    "collapsed": true
   },
   "outputs": [],
   "source": [
    "def is_palindrome(self):\n",
    "    string = \"\"\n",
    "    pointer  = self.head\n",
    "    while pointer:\n",
    "        string += pointer.data\n",
    "        pointer = pointer.next\n",
    "    return s == s[::-1]"
   ]
  },
  {
   "cell_type": "code",
   "execution_count": 22,
   "metadata": {
    "collapsed": true
   },
   "outputs": [],
   "source": [
    "class Node:\n",
    "    def __init__(self, data):\n",
    "        self.data = data\n",
    "        self.next = none \n",
    "class LinkedList:\n",
    "    def __init__(self):\n",
    "        self.head = None \n",
    "\n",
    "def append(self, data):\n",
    "    new_node = Node(data)\n",
    "    if self.head is None:\n",
    "        self.head = new_node\n",
    "        return\n",
    "    \n",
    "    last_node  = self.head\n",
    "    while last_node.next:\n",
    "        last_node = last_node.next\n",
    "    last_node.next = new_node\n",
    "        "
   ]
  },
  {
   "cell_type": "code",
   "execution_count": null,
   "metadata": {},
   "outputs": [],
   "source": [
    "list1 = LinkedList()\n",
    "list1.append(\"1\")\n",
    "list1.append(\"2\")\n",
    "list1.append(\"3\")\n",
    "list1.append(\"2\")\n",
    "list1.append(\"1\")\n",
    "print(list1.is_palindrome())"
   ]
  },
  {
   "cell_type": "code",
   "execution_count": 30,
   "metadata": {},
   "outputs": [],
   "source": [
    "class Node:\n",
    "    def __init__(self, data):\n",
    "        self.data = data\n",
    "        self.next = None\n",
    "\n",
    "\n",
    "class LinkedList: #Initialize a linked list from scratch\n",
    "    def __init__(self):\n",
    "        self.head = None\n",
    "\n",
    "    def print_list(self):\n",
    "        cur_node = self.head\n",
    "        while cur_node:\n",
    "            print(cur_node.data)\n",
    "            cur_node = cur_node.next\n",
    "\n",
    "    def append(self, data):\n",
    "        new_node = Node(data)\n",
    "\n",
    "        if self.head is None:\n",
    "            self.head = new_node\n",
    "            return\n",
    "\n",
    "        last_node = self.head\n",
    "        while last_node.next:\n",
    "            last_node = last_node.next\n",
    "        last_node.next = new_node\n",
    "\n",
    "llist = LinkedList()\n",
    "llist.append(\"1\")\n",
    "llist.append(\"2\")\n",
    "llist.append(\"3\")\n",
    "llist.append(\"3\")\n",
    "llist.append(\"2\")\n",
    "llist.append(\"1\")\n",
    "\n",
    "\n",
    "llist2 = LinkedList()\n",
    "llist2.append(\"1\")\n",
    "llist2.append(\"2\")\n",
    "llist2.append(\"3\")\n",
    "\n",
    "def is_palindrome(self):\n",
    "    s=\"\"\n",
    "    p=self.head\n",
    "    while p:\n",
    "        s+=p.data\n",
    "        p=p.next\n",
    "    return s == s[::-1]"
   ]
  },
  {
   "cell_type": "code",
   "execution_count": 13,
   "metadata": {},
   "outputs": [
    {
     "data": {
      "text/plain": [
       "True"
      ]
     },
     "execution_count": 13,
     "metadata": {},
     "output_type": "execute_result"
    }
   ],
   "source": [
    "is_palindrome(llist)"
   ]
  },
  {
   "cell_type": "code",
   "execution_count": 35,
   "metadata": {},
   "outputs": [
    {
     "name": "stdout",
     "output_type": "stream",
     "text": [
      "True\n"
     ]
    }
   ],
   "source": [
    "\"\"\"Another method, this time uses recursion\"\"\"\n",
    "class node():\n",
    "    def __init__(self,x):\n",
    "        self.val=x\n",
    "        self.next=None\n",
    "\n",
    "list1=node('1')\n",
    "list1.next=node('g') # change to 2 and rerun -- it'll show True\n",
    "list1.next.next=node('3')\n",
    "list1.next.next.next=node('2')\n",
    "list1.next.next.next.next=node('1')\n",
    "\n",
    "head=list1\n",
    "i, j=0, 0\n",
    "\n",
    "def is_palindrome2(list): \n",
    "  \n",
    "    if list is None:\n",
    "        return 0\n",
    "\n",
    "    \n",
    "    global j\n",
    "    j+= 1\n",
    "    x = is_palindrome2(list.next)\n",
    "\n",
    "    \n",
    "    if x is False:\n",
    "        return False\n",
    "    global head, i\n",
    "    i+= 1\n",
    "    j-= 1\n",
    "\n",
    "\n",
    "    if i>=j:\n",
    "        return True\n",
    "    \n",
    "    if head.val is list.val:\n",
    "        head=head.next\n",
    "        return True\n",
    "    else:\n",
    "        return False\n",
    "\n",
    "\n",
    "print(is_palindrome2(list1))"
   ]
  }
 ],
 "metadata": {
  "kernelspec": {
   "display_name": "Python 2",
   "language": "python",
   "name": "python2"
  },
  "language_info": {
   "codemirror_mode": {
    "name": "ipython",
    "version": 2
   },
   "file_extension": ".py",
   "mimetype": "text/x-python",
   "name": "python",
   "nbconvert_exporter": "python",
   "pygments_lexer": "ipython2",
   "version": "2.7.14"
  }
 },
 "nbformat": 4,
 "nbformat_minor": 2
}
